{
 "cells": [
  {
   "cell_type": "markdown",
   "id": "7aa51ce8",
   "metadata": {},
   "source": [
    "#### **Import Required Libraries**"
   ]
  },
  {
   "cell_type": "code",
   "execution_count": 2,
   "id": "3e095bee",
   "metadata": {},
   "outputs": [],
   "source": [
    "# import required libraries\n",
    "import pandas as pd\n",
    "import numpy as np\n",
    "import matplotlib.pyplot as plt\n",
    "\n",
    "from sklearn.ensemble import RandomForestRegressor\n",
    "from sklearn.linear_model import LogisticRegression\n",
    "from econml.dml import LinearDML\n"
   ]
  },
  {
   "cell_type": "markdown",
   "id": "589d98ad",
   "metadata": {},
   "source": [
    "#### **Load Diabetes Data**\n",
    "- The Behavioral Risk Factor Surveillance System (BRFSS) is a healthrelated telephone survey that is collected annually by the CDC,\n",
    "- It is a refined dataset containing 253,680 survey responses to the CDC's BRFSS2015\n",
    "- Link to the data: [Kaggle Dataset](https://www.kaggle.com/datasets/alexteboul/diabetes-health-indicators-dataset?select=diabetes_012_health_indicators_BRFSS2015.csv)"
   ]
  },
  {
   "cell_type": "code",
   "execution_count": 3,
   "id": "2d6b8bda",
   "metadata": {},
   "outputs": [
    {
     "data": {
      "text/html": [
       "<div>\n",
       "<style scoped>\n",
       "    .dataframe tbody tr th:only-of-type {\n",
       "        vertical-align: middle;\n",
       "    }\n",
       "\n",
       "    .dataframe tbody tr th {\n",
       "        vertical-align: top;\n",
       "    }\n",
       "\n",
       "    .dataframe thead th {\n",
       "        text-align: right;\n",
       "    }\n",
       "</style>\n",
       "<table border=\"1\" class=\"dataframe\">\n",
       "  <thead>\n",
       "    <tr style=\"text-align: right;\">\n",
       "      <th></th>\n",
       "      <th>Diabetes_012</th>\n",
       "      <th>HighBP</th>\n",
       "      <th>HighChol</th>\n",
       "      <th>CholCheck</th>\n",
       "      <th>BMI</th>\n",
       "      <th>Smoker</th>\n",
       "      <th>Stroke</th>\n",
       "      <th>HeartDiseaseorAttack</th>\n",
       "      <th>PhysActivity</th>\n",
       "      <th>Fruits</th>\n",
       "      <th>...</th>\n",
       "      <th>AnyHealthcare</th>\n",
       "      <th>NoDocbcCost</th>\n",
       "      <th>GenHlth</th>\n",
       "      <th>MentHlth</th>\n",
       "      <th>PhysHlth</th>\n",
       "      <th>DiffWalk</th>\n",
       "      <th>Sex</th>\n",
       "      <th>Age</th>\n",
       "      <th>Education</th>\n",
       "      <th>Income</th>\n",
       "    </tr>\n",
       "  </thead>\n",
       "  <tbody>\n",
       "    <tr>\n",
       "      <th>0</th>\n",
       "      <td>0.0</td>\n",
       "      <td>1.0</td>\n",
       "      <td>1.0</td>\n",
       "      <td>1.0</td>\n",
       "      <td>40.0</td>\n",
       "      <td>1.0</td>\n",
       "      <td>0.0</td>\n",
       "      <td>0.0</td>\n",
       "      <td>0.0</td>\n",
       "      <td>0.0</td>\n",
       "      <td>...</td>\n",
       "      <td>1.0</td>\n",
       "      <td>0.0</td>\n",
       "      <td>5.0</td>\n",
       "      <td>18.0</td>\n",
       "      <td>15.0</td>\n",
       "      <td>1.0</td>\n",
       "      <td>0.0</td>\n",
       "      <td>9.0</td>\n",
       "      <td>4.0</td>\n",
       "      <td>3.0</td>\n",
       "    </tr>\n",
       "    <tr>\n",
       "      <th>1</th>\n",
       "      <td>0.0</td>\n",
       "      <td>0.0</td>\n",
       "      <td>0.0</td>\n",
       "      <td>0.0</td>\n",
       "      <td>25.0</td>\n",
       "      <td>1.0</td>\n",
       "      <td>0.0</td>\n",
       "      <td>0.0</td>\n",
       "      <td>1.0</td>\n",
       "      <td>0.0</td>\n",
       "      <td>...</td>\n",
       "      <td>0.0</td>\n",
       "      <td>1.0</td>\n",
       "      <td>3.0</td>\n",
       "      <td>0.0</td>\n",
       "      <td>0.0</td>\n",
       "      <td>0.0</td>\n",
       "      <td>0.0</td>\n",
       "      <td>7.0</td>\n",
       "      <td>6.0</td>\n",
       "      <td>1.0</td>\n",
       "    </tr>\n",
       "    <tr>\n",
       "      <th>2</th>\n",
       "      <td>0.0</td>\n",
       "      <td>1.0</td>\n",
       "      <td>1.0</td>\n",
       "      <td>1.0</td>\n",
       "      <td>28.0</td>\n",
       "      <td>0.0</td>\n",
       "      <td>0.0</td>\n",
       "      <td>0.0</td>\n",
       "      <td>0.0</td>\n",
       "      <td>1.0</td>\n",
       "      <td>...</td>\n",
       "      <td>1.0</td>\n",
       "      <td>1.0</td>\n",
       "      <td>5.0</td>\n",
       "      <td>30.0</td>\n",
       "      <td>30.0</td>\n",
       "      <td>1.0</td>\n",
       "      <td>0.0</td>\n",
       "      <td>9.0</td>\n",
       "      <td>4.0</td>\n",
       "      <td>8.0</td>\n",
       "    </tr>\n",
       "    <tr>\n",
       "      <th>3</th>\n",
       "      <td>0.0</td>\n",
       "      <td>1.0</td>\n",
       "      <td>0.0</td>\n",
       "      <td>1.0</td>\n",
       "      <td>27.0</td>\n",
       "      <td>0.0</td>\n",
       "      <td>0.0</td>\n",
       "      <td>0.0</td>\n",
       "      <td>1.0</td>\n",
       "      <td>1.0</td>\n",
       "      <td>...</td>\n",
       "      <td>1.0</td>\n",
       "      <td>0.0</td>\n",
       "      <td>2.0</td>\n",
       "      <td>0.0</td>\n",
       "      <td>0.0</td>\n",
       "      <td>0.0</td>\n",
       "      <td>0.0</td>\n",
       "      <td>11.0</td>\n",
       "      <td>3.0</td>\n",
       "      <td>6.0</td>\n",
       "    </tr>\n",
       "    <tr>\n",
       "      <th>4</th>\n",
       "      <td>0.0</td>\n",
       "      <td>1.0</td>\n",
       "      <td>1.0</td>\n",
       "      <td>1.0</td>\n",
       "      <td>24.0</td>\n",
       "      <td>0.0</td>\n",
       "      <td>0.0</td>\n",
       "      <td>0.0</td>\n",
       "      <td>1.0</td>\n",
       "      <td>1.0</td>\n",
       "      <td>...</td>\n",
       "      <td>1.0</td>\n",
       "      <td>0.0</td>\n",
       "      <td>2.0</td>\n",
       "      <td>3.0</td>\n",
       "      <td>0.0</td>\n",
       "      <td>0.0</td>\n",
       "      <td>0.0</td>\n",
       "      <td>11.0</td>\n",
       "      <td>5.0</td>\n",
       "      <td>4.0</td>\n",
       "    </tr>\n",
       "  </tbody>\n",
       "</table>\n",
       "<p>5 rows × 22 columns</p>\n",
       "</div>"
      ],
      "text/plain": [
       "   Diabetes_012  HighBP  HighChol  CholCheck   BMI  Smoker  Stroke  \\\n",
       "0           0.0     1.0       1.0        1.0  40.0     1.0     0.0   \n",
       "1           0.0     0.0       0.0        0.0  25.0     1.0     0.0   \n",
       "2           0.0     1.0       1.0        1.0  28.0     0.0     0.0   \n",
       "3           0.0     1.0       0.0        1.0  27.0     0.0     0.0   \n",
       "4           0.0     1.0       1.0        1.0  24.0     0.0     0.0   \n",
       "\n",
       "   HeartDiseaseorAttack  PhysActivity  Fruits  ...  AnyHealthcare  \\\n",
       "0                   0.0           0.0     0.0  ...            1.0   \n",
       "1                   0.0           1.0     0.0  ...            0.0   \n",
       "2                   0.0           0.0     1.0  ...            1.0   \n",
       "3                   0.0           1.0     1.0  ...            1.0   \n",
       "4                   0.0           1.0     1.0  ...            1.0   \n",
       "\n",
       "   NoDocbcCost  GenHlth  MentHlth  PhysHlth  DiffWalk  Sex   Age  Education  \\\n",
       "0          0.0      5.0      18.0      15.0       1.0  0.0   9.0        4.0   \n",
       "1          1.0      3.0       0.0       0.0       0.0  0.0   7.0        6.0   \n",
       "2          1.0      5.0      30.0      30.0       1.0  0.0   9.0        4.0   \n",
       "3          0.0      2.0       0.0       0.0       0.0  0.0  11.0        3.0   \n",
       "4          0.0      2.0       3.0       0.0       0.0  0.0  11.0        5.0   \n",
       "\n",
       "   Income  \n",
       "0     3.0  \n",
       "1     1.0  \n",
       "2     8.0  \n",
       "3     6.0  \n",
       "4     4.0  \n",
       "\n",
       "[5 rows x 22 columns]"
      ]
     },
     "execution_count": 3,
     "metadata": {},
     "output_type": "execute_result"
    }
   ],
   "source": [
    "diabetes_df = pd.read_csv('diabetes_brfss2015.csv')\n",
    "diabetes_df.head()"
   ]
  },
  {
   "cell_type": "code",
   "execution_count": 4,
   "id": "acd789df",
   "metadata": {},
   "outputs": [
    {
     "name": "stdout",
     "output_type": "stream",
     "text": [
      "Shape of the dataset: (253680, 22)\n"
     ]
    }
   ],
   "source": [
    "print(\"Shape of the dataset:\", diabetes_df.shape)"
   ]
  },
  {
   "cell_type": "markdown",
   "id": "fd5982a0",
   "metadata": {},
   "source": [
    "#### **Causal Model**"
   ]
  },
  {
   "cell_type": "code",
   "execution_count": 5,
   "id": "89052cd1",
   "metadata": {},
   "outputs": [],
   "source": [
    "# Convert outcome to binary: 1 if diabetes/pre-diabetes, else 0\n",
    "outcome = \"Diabetes_012\" \n",
    "diabetes_df[outcome] = diabetes_df[outcome].apply(lambda x: 1 if x > 0 else 0)\n",
    "\n",
    "treatment = \"PhysActivity\" # whether the person exercises\n",
    "covars = [\n",
    "\"Age\", \"Sex\", \"Education\", \"Income\",\n",
    "\"HighBP\", \"HighChol\", \"BMI\", \"Smoker\",\n",
    "\"HvyAlcoholConsump\", \"AnyHealthcare\", \"NoDocbcCost\",\n",
    "\"Stroke\", \"HeartDiseaseorAttack\", \"DiffWalk\"\n",
    "]"
   ]
  },
  {
   "cell_type": "code",
   "execution_count": 6,
   "id": "39d711ce",
   "metadata": {},
   "outputs": [],
   "source": [
    "# prepare the data\n",
    "Y = diabetes_df[outcome].to_numpy(float)\n",
    "T = diabetes_df[treatment].to_numpy(int)\n",
    "X = diabetes_df[covars].to_numpy(float)\n",
    "\n",
    "# define models for outcome and treatment\n",
    "model_y = RandomForestRegressor(n_estimators=300, min_samples_leaf=5, random_state=42)\n",
    "model_t = LogisticRegression(max_iter=2000)"
   ]
  },
  {
   "cell_type": "code",
   "execution_count": 7,
   "id": "dce70113",
   "metadata": {},
   "outputs": [
    {
     "data": {
      "text/plain": [
       "<econml.dml.dml.LinearDML at 0x19d78333620>"
      ]
     },
     "execution_count": 7,
     "metadata": {},
     "output_type": "execute_result"
    }
   ],
   "source": [
    "# linear DML model\n",
    "dml = LinearDML(\n",
    "model_y=model_y,\n",
    "model_t=model_t,\n",
    "discrete_treatment=True,\n",
    "random_state=42\n",
    ")\n",
    "\n",
    "# fit the model\n",
    "dml.fit(Y, T, X=X)"
   ]
  },
  {
   "cell_type": "code",
   "execution_count": 8,
   "id": "ece66edb",
   "metadata": {},
   "outputs": [
    {
     "name": "stdout",
     "output_type": "stream",
     "text": [
      "LinearDML ATE (mean CATE): -0.016\n"
     ]
    }
   ],
   "source": [
    "# CATE and ATE estimation\n",
    "\n",
    "# Individual-level (CATE)\n",
    "cate_dml = dml.effect(X)\n",
    "\n",
    "# Average Treatment Effect (ATE)\n",
    "ate_dml = float(np.mean(cate_dml))\n",
    "print(\"LinearDML ATE (mean CATE):\", round(ate_dml, 3))"
   ]
  },
  {
   "cell_type": "markdown",
   "id": "ac453e73",
   "metadata": {},
   "source": [
    "Results:\n",
    "- The mean CATE value shows that engaging in physical activity reduces the probability of diabetes by ~1.6 percentage, after adjusting for age, BMI\n",
    "- The effect is relatively small."
   ]
  },
  {
   "cell_type": "code",
   "execution_count": 9,
   "id": "737c4ae7",
   "metadata": {},
   "outputs": [
    {
     "data": {
      "image/png": "[encoded data removed]",
      "text/plain": [
       "<Figure size 800x500 with 1 Axes>"
      ]
     },
     "metadata": {},
     "output_type": "display_data"
    }
   ],
   "source": [
    "# visualize the distribution of CATEs\n",
    "plt.figure(figsize=(8,5))\n",
    "plt.hist(cate_dml, bins=30, color=\"skyblue\", edgecolor=\"black\")\n",
    "plt.xlabel(\"Estimated CATE tau_hat(X)\")\n",
    "plt.ylabel(\"Count\")\n",
    "plt.title(\"LinearDML — Distribution of Individual Treatment Effects\")\n",
    "plt.show()"
   ]
  },
  {
   "cell_type": "code",
   "execution_count": 10,
   "id": "ef552bea",
   "metadata": {},
   "outputs": [
    {
     "name": "stdout",
     "output_type": "stream",
     "text": [
      "[('35–44', np.float64(-0.01670995334767021)), ('45+', np.float64(-0.024651133159277413)), ('25–34', np.float64(-0.007855037288713472)), ('18–24', np.float64(0.003489665306681997))]\n"
     ]
    }
   ],
   "source": [
    "# sub group analysis by age to see if treatment effect varies by age\n",
    "age_groups = pd.cut(diabetes_df[\"Age\"], bins=[0,3,6,9,13], labels=[\"18–24\",\"25–34\",\"35–44\",\"45+\"])\n",
    "subgroup_effects = []\n",
    "\n",
    "for group in age_groups.unique():\n",
    "    mask = age_groups == group\n",
    "    subgroup_effects.append((group, np.mean(cate_dml[mask])))\n",
    "\n",
    "print(subgroup_effects)"
   ]
  },
  {
   "cell_type": "markdown",
   "id": "5fea36d9",
   "metadata": {},
   "source": [
    "Sub group analysis results: \n",
    "- Age (18 -24) : 0.003 shows no effect\n",
    "- Age (25-34) : -0.007 shows small effect\n",
    "- Age (35-44) : -0.016 good effect\n",
    "- Age (45+) : -0.024 shows strongest effect\n",
    "\n",
    "Overall, physical activity helps most as people age, where diabetes risk is higher."
   ]
  }
 ],
 "metadata": {
  "kernelspec": {
   "display_name": "aip",
   "language": "python",
   "name": "python3"
  },
  "language_info": {
   "codemirror_mode": {
    "name": "ipython",
    "version": 3
   },
   "file_extension": ".py",
   "mimetype": "text/x-python",
   "name": "python",
   "nbconvert_exporter": "python",
   "pygments_lexer": "ipython3",
   "version": "3.13.7"
  }
 },
 "nbformat": 4,
 "nbformat_minor": 5
}
